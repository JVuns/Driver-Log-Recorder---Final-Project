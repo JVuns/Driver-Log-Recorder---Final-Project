{
 "cells": [
  {
   "cell_type": "code",
   "execution_count": null,
   "metadata": {},
   "outputs": [],
   "source": [
    "list1=[2, 3, 5, 'TPB-FTI']\n",
    "tup1=(2, 3, 5, 'TPB-FTI') \n",
    "str1 = 'TPB-FTI'\n",
    "print(list1[3])\n",
    "print(list1[1:4])\n",
    "print(list1[2:])\n",
    "print(list1[:])\n",
    "print(str1 in list1)\n",
    "print()\n",
    "print(tup1[3])\n",
    "print(tup1[1:4])\n",
    "print(tup1[2:])\n",
    "print(tup1[:])\n",
    "print(str1 in list1)"
   ]
  },
  {
   "cell_type": "code",
   "execution_count": null,
   "metadata": {},
   "outputs": [],
   "source": [
    "list1=[2, 3, 5, 'TPB-FTI']\n",
    "tup1=(2, 3, 5, 'TPB-FTI') \n",
    "print(list1)\n",
    "list1[1] = 10\n",
    "print(list1)\n",
    "print(tup1)\n",
    "#tup1[1] = 10\n",
    "#print(tup1)\n"
   ]
  },
  {
   "cell_type": "code",
   "execution_count": null,
   "metadata": {},
   "outputs": [],
   "source": [
    "lst2 = [9, 'itb', 5.56, [9,12], 'FTI']\n",
    "#index positip\n",
    "print(lst2)\n",
    "print(lst2[3])\n",
    "print(lst2[3][1])"
   ]
  },
  {
   "cell_type": "code",
   "execution_count": null,
   "metadata": {},
   "outputs": [],
   "source": [
    "lst2 = [9, 'itb', 5.56, [9,12], 'FTI']\n",
    "#index negatif\n",
    "print(lst2)\n",
    "print(lst2[-1])\n",
    "print(lst2[-2][-1])"
   ]
  },
  {
   "cell_type": "code",
   "execution_count": null,
   "metadata": {},
   "outputs": [],
   "source": [
    "lst1 = [] #membuat list kosong\n",
    "print(lst1)\n",
    "#Tambahkan 'ITB' pada lst1\n",
    "lst1.append('ITB')\n",
    "print(lst1)"
   ]
  },
  {
   "cell_type": "code",
   "execution_count": null,
   "metadata": {},
   "outputs": [],
   "source": [
    "lst2 = [9, 'itb', 5.56, (9,12), 'FTI']\n",
    "print(lst2)\n",
    "#Copy seluruh isi list\n",
    "lst3 = lst2\n",
    "print(lst3)\n",
    "lst4 = lst2[:]\n",
    "print(lst4)\n",
    "#Copy sebagian isi list\n",
    "lst5 = lst2[1:3]\n",
    "print(lst5)"
   ]
  },
  {
   "cell_type": "code",
   "execution_count": null,
   "metadata": {},
   "outputs": [],
   "source": [
    "bilangan = [1, 5, 8, 9, 2, 1, 4, 5, 6]\n",
    "set1 = set(bilangan)\n",
    "print(set1)"
   ]
  },
  {
   "cell_type": "code",
   "execution_count": null,
   "metadata": {},
   "outputs": [],
   "source": [
    "#Dictionary\n",
    "mhs={133001:'Udin', 133002:'Asep' , 133002:'Usep'}\n",
    "print(mhs)"
   ]
  },
  {
   "cell_type": "code",
   "execution_count": null,
   "metadata": {},
   "outputs": [],
   "source": [
    "list_huruf = ['a', 'd', 'c', 'd', 'e']\n",
    "print(list_huruf)\n",
    "list_huruf.remove('d')\n",
    "print(list_huruf)\n",
    "list_huruf.pop(1)\n",
    "print(list_huruf)\n",
    "list_huruf.pop()\n",
    "print(list_huruf)\n",
    "list_huruf.clear()\n",
    "print(list_huruf)"
   ]
  },
  {
   "cell_type": "markdown",
   "metadata": {},
   "source": [
    "## LATIHAN 1\n",
    "* Buatlah program untuk menghitung jumlah dari dua buah pecahan\n",
    "* Spesifikasi program\n",
    "  + Program menerima masukan pecahan pertama berupa pembilang dan penyebut \n",
    "  + Kemudian program menerima pecahan kedua\n",
    "  + Lalu program akan melakukan penjumlahan\n",
    "  + Kemudian menampilkan hasilnya berupa pembilang dan penyebut hasil penjumlahan\n",
    "  + Gunakan tipe data tuple atau list"
   ]
  },
  {
   "cell_type": "code",
   "execution_count": 1,
   "metadata": {},
   "outputs": [
    {
     "name": "stdout",
     "output_type": "stream",
     "text": [
      "Masukan penyebut dan pembilang P1:9,3\n",
      "Masukan penyebut dan pembilang P2:4,5\n",
      "jumlah {a:d}/{b:d} + {c:d}/{d:d} = , \n"
     ]
    }
   ],
   "source": [
    "# Buat dua buah list kosong P1 dan P2 \n",
    "# untuk pecahan pertama dan kedua \n",
    "P1 =[]; P2 =[]\n",
    "\n",
    "# Masukan koordinat penyebut dan pembilang \n",
    "# untuk P1 ke a, b\n",
    "a,b = eval(input('Masukan penyebut dan pembilang P1:'))\n",
    "# Masukan a dan b ke list P1\n",
    "P1.append(a)\n",
    "P1.append(b)\n",
    "\n",
    "# Masukan koordinat penyebut dan pembilang \n",
    "# untuk P2 ke c, d\n",
    "c,d = eval(input('Masukan penyebut dan pembilang P2:'))\n",
    "# Masukan c dan d ke list P2\n",
    "P2.append(c)\n",
    "P2.append(d)\n",
    "\n",
    "# Jumlahkan dan tampilkan hasilnya\n",
    "print(\"jumlah {a:d}/{b:d} + {c:d}/{d:d} = , \")"
   ]
  },
  {
   "cell_type": "markdown",
   "metadata": {},
   "source": [
    "## LATIHAN 2\n",
    "* Sebuah program yang mengelola type data list yang menyimpan  data titik koordinat x, y\n",
    "* Buatlah program yang membaca dua buah titik, misalnya P1 dan P2 dan tuliskan jarak antara kedua point tersebut\n",
    "* Rumus perhitungan jarak 2 point: $$\\sqrt{(x_2 - x_1)^2 + (yx_2 - y_1)^2}$$\n",
    "* Gunakan instruksi math.sqrt(X) untuk perhitungan akar kuadrat dan X**2 untuk perhitungan kuadrat\n",
    "* Gunkan import math pd baris atas untuk menggunakan math.sqrt(X) "
   ]
  },
  {
   "cell_type": "code",
   "execution_count": null,
   "metadata": {},
   "outputs": [],
   "source": [
    "# Buat dua buah list kosong P1 dan P2\n",
    "P1 = ...; P2 = ...\n",
    "\n",
    "# Masukan koordinat (x,y) untuk P1 ke x, y\n",
    "...... = eval(input('Masukan koordinat x dan y untuk P1:'))\n",
    "# Masukan x dan y ke list P1\n",
    "P1. ... = ...\n",
    "\n",
    "# Masukan koordinat (x,y) untuk P2 ke x, y\n",
    "...... = eval(input('Masukan koordinat x dan y untuk P2:'))\n",
    "# Masukan x dan y ke list P2\n",
    "P2. ... = ...\n",
    "\n",
    "# Hitung Jarak dan tampilkan hasilnya"
   ]
  },
  {
   "cell_type": "markdown",
   "metadata": {},
   "source": [
    "## LATIHAN 3\n",
    "* Buatlah sebuah program yang menerima masukan 2 buah Jam (dalam jam, menit, dan detik), misalnya J1 dan J2 dan menghitung selisih di antara keduanya (dalam jam, menit, detik) \n",
    "* Gunakan tipe data tupe atau list \n",
    "* Asumsikan J1 lebih awal atau sama dengan J2\n",
    "  Misalnya: J1 = 12:0:0 dan J2 = 13:0:1 maka selisihnya adalah 1:0:1 (1 jam 0 menit 1 detik)\n",
    "* Petunjuk: Untuk mengubah jam menjadi jumlah detik gunakan rumus: jam * 3600 + menit * 60 + detik"
   ]
  },
  {
   "cell_type": "code",
   "execution_count": null,
   "metadata": {},
   "outputs": [],
   "source": [
    "# Buat dua buah list kosong J1 dan J2\n",
    "........\n",
    "\n",
    "# Masukan tiga buah data jam, menit dan detik ke j, m, s\n",
    "...... = eval(input('Masukan jam, menit, detik untuk J1:'))\n",
    "\n",
    "# Masukan j, m dan s ke list J1\n",
    "\n",
    "\n",
    "\n",
    "# Masukan tiga buah data jam, menit dan detik ke j, m, s\n",
    "...... = eval(input('Masukan jam, menit, detik untuk J2:'))\n",
    "\n",
    "# Masukan j, m dan s ke list J2\n",
    "\n",
    "# Hitung jumlah detik J1 masukan ke J1s\n",
    "J1s = ....\n",
    "\n",
    "# Hitung jumlah detik J2 masukan ke J2s\n",
    "J2s = .....\n",
    "\n",
    "#Hitung selisih detik J2s dengan J1s\n",
    "selisih = .....\n",
    "\n",
    "#Ubah selisih dlm detik menjadi\n",
    "#perbedaan jam menit dan detik masukan ke bedajam, bedam dan beda s\n",
    "\n",
    "\n",
    "\n",
    "print('Beda %d:%d:%d - %d:%d:%d = '%(J2[0],J2[1],J2[2],J1[0],J1[1],J1[2]),end='')\n",
    "print('%d jam: %d menit: %d detik'%(bedajam,bedam,bedas))"
   ]
  },
  {
   "cell_type": "code",
   "execution_count": null,
   "metadata": {},
   "outputs": [],
   "source": []
  }
 ],
 "metadata": {
  "kernelspec": {
   "display_name": "Python 3",
   "language": "python",
   "name": "python3"
  },
  "language_info": {
   "codemirror_mode": {
    "name": "ipython",
    "version": 3
   },
   "file_extension": ".py",
   "mimetype": "text/x-python",
   "name": "python",
   "nbconvert_exporter": "python",
   "pygments_lexer": "ipython3",
   "version": "3.8.3"
  }
 },
 "nbformat": 4,
 "nbformat_minor": 2
}
