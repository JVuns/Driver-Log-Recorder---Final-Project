{
 "metadata": {
  "language_info": {
   "codemirror_mode": {
    "name": "ipython",
    "version": 3
   },
   "file_extension": ".py",
   "mimetype": "text/x-python",
   "name": "python",
   "nbconvert_exporter": "python",
   "pygments_lexer": "ipython3",
   "version": "3.8.3-final"
  },
  "orig_nbformat": 2,
  "kernelspec": {
   "name": "python3",
   "display_name": "Python 3",
   "language": "python"
  }
 },
 "nbformat": 4,
 "nbformat_minor": 2,
 "cells": [
  {
   "cell_type": "code",
   "execution_count": null,
   "metadata": {},
   "outputs": [],
   "source": [
    "import pandas as pd\n",
    "df = pd.read_csv(\"D:/New folder/Kvun/pandas/nilai_uas.csv\")\n"
   ]
  },
  {
   "cell_type": "code",
   "execution_count": 14,
   "metadata": {},
   "outputs": [
    {
     "output_type": "stream",
     "name": "stdout",
     "text": [
      "3562\n"
     ]
    }
   ],
   "source": [
    "print(len(df.index))"
   ]
  },
  {
   "cell_type": "code",
   "execution_count": 17,
   "metadata": {},
   "outputs": [
    {
     "output_type": "stream",
     "name": "stdout",
     "text": [
      "                  nama fakultas  nilai_kal  nilai_fis  nilai_kim\n0         Raihan Daris       SF      60.27      65.59      51.70\n1           Galuh Wina     STEI      52.99      55.25      66.31\n2         Johannes Sun    FMIPA      51.20      51.30      84.70\n3  Abdurrahman WIlliam     FTSL      31.17      36.88      50.25\n4         Rayhan Faris     STEI      55.55      57.61      67.46\n5  Margareth Widyatama     FTTM      42.78      50.23      71.17\n6      Christofer Jaza     FTSL      31.64      38.03      34.99\n7         Wafika Nadia       SF      60.96      57.54      76.03\n8  Elizabeth Parikesit     STEI      54.35      55.30      59.15\n9         Halida Aqila    SITHR      63.71      67.23      63.76\n"
     ]
    }
   ],
   "source": [
    "print(df[:10])"
   ]
  },
  {
   "cell_type": "code",
   "execution_count": 18,
   "metadata": {},
   "outputs": [
    {
     "output_type": "stream",
     "name": "stdout",
     "text": [
      "                 nama fakultas  nilai_kal  nilai_fis  nilai_kim\n50     Ulul Mochammad     FTTM      38.75      44.24      40.11\n51      George Vrince     FITB      44.02      45.15      41.76\n52       Fayza Eunike     STEI      55.28      59.47      49.29\n53      Kevin Faustin    SAPPK      47.72      49.65      52.76\n54      salah Siagian    SAPPK      47.14      51.26      46.77\n55      Nabilah Satya       SF      61.26      63.96      57.19\n56   Tharisa Ghiffari     FSRD      74.14      78.86      54.59\n57     Setyawan Ahmad     FSRD      75.18      78.33      51.35\n58  Kelvin Salsabiela     FTTM      39.69      40.92      51.15\n59      Sitorus Aidil     FTMD      58.49      55.54      55.20\n"
     ]
    }
   ],
   "source": [
    "print(df[50:60])"
   ]
  },
  {
   "cell_type": "code",
   "execution_count": 26,
   "metadata": {},
   "outputs": [
    {
     "output_type": "execute_result",
     "data": {
      "text/plain": [
       "fakultas\n",
       "FITB     283\n",
       "FMIPA    396\n",
       "FSRD     260\n",
       "FTMD     352\n",
       "FTSL     424\n",
       "FTTM     454\n",
       "SAPPK    198\n",
       "SBM      261\n",
       "SF       154\n",
       "SITHR    179\n",
       "SITHS    102\n",
       "STEI     499\n",
       "Name: nama, dtype: int64"
      ]
     },
     "metadata": {},
     "execution_count": 26
    }
   ],
   "source": [
    "df.groupby('fakultas').count()['nama']"
   ]
  }
 ]
}